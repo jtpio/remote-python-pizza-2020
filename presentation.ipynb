{
 "cells": [
  {
   "cell_type": "markdown",
   "metadata": {},
   "source": [
    "![](./img/skip.png)"
   ]
  },
  {
   "cell_type": "markdown",
   "metadata": {},
   "source": [
    "# Control JupyterLab from Python Notebooks 🧪 ☢️ 🐍\n",
    "\n",
    "## Remote Python Pizza 2020 - 2020-04-25\n",
    "\n",
    "![pizza](./img/pizza.png)\n",
    "\n",
    "## Jeremy Tuloup - [github.com/jtpio](https://github.com/jtpio)\n",
    "\n",
    "## https://github.com/jtpio/remote-python-pizza-2020\n",
    "\n",
    "[![Binder](./img/binder-badge.svg)](https://mybinder.org/v2/gh/jtpio/remote-python-pizza-2020/master?urlpath=lab%2Ftree%2Fpresentation.ipynb)"
   ]
  },
  {
   "cell_type": "markdown",
   "metadata": {},
   "source": [
    "![](./img/skip.png)"
   ]
  },
  {
   "cell_type": "markdown",
   "metadata": {},
   "source": [
    "# JupyterLab\n",
    "\n",
    "![jlab-logo](./img/jupyterlab-logo.png)\n",
    "\n",
    "## - Latest version: 2.1.0\n",
    "\n",
    "## - 60+ extensions in core with an interface\n",
    "\n",
    "## - Application Shell: main, left, right, top, bottom areas\n",
    "\n",
    "## - TypeScript & npm"
   ]
  },
  {
   "cell_type": "markdown",
   "metadata": {},
   "source": [
    "![](./img/skip.png)"
   ]
  },
  {
   "cell_type": "markdown",
   "metadata": {},
   "source": [
    "# Jupyter Widgets\n",
    "\n",
    "![widgets-diagram](./img/WidgetModelView.png)\n",
    "\n",
    "## Communicate between Python and JavaScript over WebSockets"
   ]
  },
  {
   "cell_type": "code",
   "execution_count": null,
   "metadata": {},
   "outputs": [],
   "source": [
    "from ipywidgets import IntSlider\n",
    "slider = IntSlider()\n",
    "slider"
   ]
  },
  {
   "cell_type": "code",
   "execution_count": null,
   "metadata": {},
   "outputs": [],
   "source": [
    "slider"
   ]
  },
  {
   "cell_type": "markdown",
   "metadata": {},
   "source": [
    "![](./img/skip.png)"
   ]
  },
  {
   "cell_type": "markdown",
   "metadata": {},
   "source": [
    "# ipylab 🧪 ☢️ 🐍\n",
    "\n",
    "![ipylab-diagram](./img/ipylab.png)"
   ]
  },
  {
   "cell_type": "markdown",
   "metadata": {},
   "source": [
    "![](./img/skip.png)"
   ]
  },
  {
   "cell_type": "markdown",
   "metadata": {},
   "source": [
    "## - Use Jupyter Widgets as a proxy to JupyterLab\n",
    "\n",
    "## - Create simple widget applications from a notebook\n",
    "\n",
    "## - Explore a subset of the JupyterLab API for creating extensions"
   ]
  },
  {
   "cell_type": "markdown",
   "metadata": {},
   "source": [
    "![](./img/skip.png)"
   ]
  },
  {
   "cell_type": "markdown",
   "metadata": {},
   "source": [
    "## `conda install -c conda-forge ipylab`\n",
    "\n",
    "## or `pip install ipylab`\n",
    "\n",
    "## `jupyter labextension install @jupyter-widgets/jupyterlab-manager ipylab`"
   ]
  },
  {
   "cell_type": "markdown",
   "metadata": {},
   "source": [
    "![](./img/skip.png)"
   ]
  },
  {
   "cell_type": "markdown",
   "metadata": {},
   "source": [
    "# A first example"
   ]
  },
  {
   "cell_type": "code",
   "execution_count": null,
   "metadata": {},
   "outputs": [],
   "source": [
    "from ipylab import JupyterFrontEnd, Panel\n",
    "from ipywidgets import Button, HBox, IntProgress, Image, Layout"
   ]
  },
  {
   "cell_type": "code",
   "execution_count": null,
   "metadata": {},
   "outputs": [],
   "source": [
    "app = JupyterFrontEnd()"
   ]
  },
  {
   "cell_type": "code",
   "execution_count": null,
   "metadata": {},
   "outputs": [],
   "source": [
    "button = Button(description='Make Pizza', icon='pizza-slice', button_style='danger')\n",
    "button"
   ]
  },
  {
   "cell_type": "code",
   "execution_count": null,
   "metadata": {},
   "outputs": [],
   "source": [
    "progress = IntProgress(value=23, min=0, max=50, bar_style='danger', layout=Layout(margin='0'))\n",
    "progress"
   ]
  },
  {
   "cell_type": "code",
   "execution_count": null,
   "metadata": {},
   "outputs": [],
   "source": [
    "with open(\"./img/pizza.png\", \"rb\") as f:\n",
    "    img = Image(value=f.read())\n",
    "img"
   ]
  },
  {
   "cell_type": "code",
   "execution_count": null,
   "metadata": {},
   "outputs": [],
   "source": [
    "import time\n",
    "\n",
    "def on_clicked(b):\n",
    "    progress.value = 0\n",
    "    for i in range(50):\n",
    "        time.sleep(0.05)\n",
    "        progress.value += 1\n",
    "\n",
    "    with open(\"./img/pizza-cool.gif\", \"rb\") as f:\n",
    "        img = Image(value=f.read(), width=\"100%\", height=\"auto\")\n",
    "    \n",
    "    main_panel = Panel()\n",
    "    main_panel.children = [img]\n",
    "    main_panel.title.label = 'The Pizza Slice'\n",
    "    main_panel.title.icon_class = 'jp-PythonIcon'\n",
    "    main_panel.layout = Layout()\n",
    "    app.shell.add(main_panel, 'main', { 'mode': 'split-right' })\n",
    "\n",
    "button.on_click(on_clicked)"
   ]
  },
  {
   "cell_type": "code",
   "execution_count": null,
   "metadata": {},
   "outputs": [],
   "source": [
    "top_panel = Panel()\n",
    "progress.value = 0\n",
    "top_panel.children = [HBox([button, progress], layout=Layout(height='100%', overflow='hidden'))]\n",
    "top_panel.layout = Layout(overflow='hidden')\n",
    "app.shell.add(top_panel, 'top')"
   ]
  },
  {
   "cell_type": "code",
   "execution_count": null,
   "metadata": {},
   "outputs": [],
   "source": [
    "top_panel.close()"
   ]
  },
  {
   "cell_type": "markdown",
   "metadata": {},
   "source": [
    "![](./img/skip.png)"
   ]
  },
  {
   "cell_type": "markdown",
   "metadata": {},
   "source": [
    "# Adding custom commands\n",
    "\n",
    "## [commands.ipynb](./commands.ipynb)"
   ]
  },
  {
   "cell_type": "markdown",
   "metadata": {},
   "source": [
    "![](./img/skip.png)"
   ]
  },
  {
   "cell_type": "markdown",
   "metadata": {},
   "source": [
    "# Adding Jupyter Widgets to the JupyterLab interface\n",
    "\n",
    "## [widgets.ipynb](./widgets.ipynb)"
   ]
  },
  {
   "cell_type": "markdown",
   "metadata": {},
   "source": [
    "![](./img/skip.png)"
   ]
  },
  {
   "cell_type": "markdown",
   "metadata": {},
   "source": [
    "# Building a File Browser widget\n",
    "\n",
    "## [ipytree.ipynb](./ipytree.ipynb)"
   ]
  },
  {
   "cell_type": "markdown",
   "metadata": {},
   "source": [
    "![](./img/skip.png)"
   ]
  },
  {
   "cell_type": "markdown",
   "metadata": {
    "toc-hr-collapsed": true
   },
   "source": [
    "# Uses Cases\n",
    "\n",
    "## - Explore the JupyterLab API from Python\n",
    "\n",
    "## - Prototype small extensions\n",
    "\n",
    "## - Hack your IDE with Python"
   ]
  },
  {
   "cell_type": "markdown",
   "metadata": {},
   "source": [
    "![](./img/skip.png)"
   ]
  },
  {
   "cell_type": "markdown",
   "metadata": {
    "toc-hr-collapsed": true
   },
   "source": [
    "# Try it online\n",
    "\n",
    "[![binder-logo](./img/binder-logo.png)](https://github.com/jtpio/ipylab#try-it-online)"
   ]
  },
  {
   "cell_type": "markdown",
   "metadata": {},
   "source": [
    "![](./img/skip.png)"
   ]
  },
  {
   "cell_type": "markdown",
   "metadata": {
    "toc-hr-collapsed": true
   },
   "source": [
    "# Where to go next?"
   ]
  },
  {
   "cell_type": "markdown",
   "metadata": {},
   "source": [
    "![](./img/skip.png)"
   ]
  },
  {
   "cell_type": "markdown",
   "metadata": {
    "toc-hr-collapsed": true
   },
   "source": [
    "# Create standalone web applications from Jupyter Notebooks\n",
    "\n",
    "[![Voila-logo](./img/voila-logo.svg)](https://github.com/voila-dashboards/voila)"
   ]
  },
  {
   "cell_type": "markdown",
   "metadata": {},
   "source": [
    "![](./img/skip.png)"
   ]
  },
  {
   "cell_type": "markdown",
   "metadata": {
    "toc-hr-collapsed": true
   },
   "source": [
    "# Create an extension for JupyterLab\n",
    "\n",
    "## - Extension Developer Guide: https://jupyterlab.readthedocs.io/en/latest/developer/extension_dev.html\n",
    "\n",
    "## - JupyterLab Extensions by Example: https://github.com/jupyterlab/extension-examples\n",
    "\n",
    "![jupyterlab-extension-examples](./img/jupyterlab-extension-examples.png)"
   ]
  },
  {
   "cell_type": "markdown",
   "metadata": {},
   "source": [
    "![](./img/skip.png)"
   ]
  },
  {
   "cell_type": "markdown",
   "metadata": {
    "toc-hr-collapsed": true
   },
   "source": [
    "# Thanks!\n",
    "\n",
    "## [github.com/jtpio](https://github.com/jtpio)"
   ]
  },
  {
   "cell_type": "markdown",
   "metadata": {},
   "source": [
    "![](./img/skip.png)"
   ]
  }
 ],
 "metadata": {
  "kernelspec": {
   "display_name": "Python 3",
   "language": "python",
   "name": "python3"
  },
  "language_info": {
   "codemirror_mode": {
    "name": "ipython",
    "version": 3
   },
   "file_extension": ".py",
   "mimetype": "text/x-python",
   "name": "python",
   "nbconvert_exporter": "python",
   "pygments_lexer": "ipython3",
   "version": "3.8.2"
  },
  "toc-autonumbering": false,
  "toc-showmarkdowntxt": false,
  "toc-showtags": false,
  "widgets": {
   "application/vnd.jupyter.widget-state+json": {
    "state": {},
    "version_major": 2,
    "version_minor": 0
   }
  }
 },
 "nbformat": 4,
 "nbformat_minor": 4
}
